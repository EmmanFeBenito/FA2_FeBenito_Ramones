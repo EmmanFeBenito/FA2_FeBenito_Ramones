{
 "cells": [
  {
   "cell_type": "markdown",
   "id": "8d374a1f",
   "metadata": {},
   "source": [
    "## 1. Write a Python function to multiply all the numbers in a list."
   ]
  },
  {
   "cell_type": "code",
   "execution_count": 16,
   "id": "ff630afc",
   "metadata": {
    "scrolled": true
   },
   "outputs": [
    {
     "name": "stdout",
     "output_type": "stream",
     "text": [
      "List of Numbers: [6, -15, 5, -9, 2, -4, 10, 7]\n",
      "-2268000\n"
     ]
    }
   ],
   "source": [
    "numberslist = [6, -15, 5, -9, 2, -4, 10, 7]\n",
    "\n",
    "def product(numberslist):\n",
    "    result = 1\n",
    "    for numbers in numberslist:\n",
    "        result = result * numbers\n",
    "    return result\n",
    "\n",
    "print(\"List of Numbers:\", numberslist)\n",
    "print(result)"
   ]
  },
  {
   "cell_type": "markdown",
   "id": "6ba5c806",
   "metadata": {},
   "source": [
    "## 2. Write a function that draws a grid like the following"
   ]
  },
  {
   "cell_type": "code",
   "execution_count": 17,
   "id": "2141c279",
   "metadata": {},
   "outputs": [
    {
     "name": "stdout",
     "output_type": "stream",
     "text": [
      "[] = = = = [] = = = = [] = = = = [] = = = = []\n",
      "||         ||         ||         ||         ||\n",
      "||         ||         ||         ||         ||\n",
      "||         ||         ||         ||         ||\n",
      "||         ||         ||         ||         ||\n",
      "[] = = = = [] = = = = [] = = = = [] = = = = []\n",
      "||         ||         ||         ||         ||\n",
      "||         ||         ||         ||         ||\n",
      "||         ||         ||         ||         ||\n",
      "||         ||         ||         ||         ||\n",
      "[] = = = = [] = = = = [] = = = = [] = = = = []\n",
      "||         ||         ||         ||         ||\n",
      "||         ||         ||         ||         ||\n",
      "||         ||         ||         ||         ||\n",
      "||         ||         ||         ||         ||\n",
      "[] = = = = [] = = = = [] = = = = [] = = = = []\n",
      "||         ||         ||         ||         ||\n",
      "||         ||         ||         ||         ||\n",
      "||         ||         ||         ||         ||\n",
      "||         ||         ||         ||         ||\n",
      "[] = = = = [] = = = = [] = = = = [] = = = = []\n"
     ]
    }
   ],
   "source": [
    "def draw_grid():\n",
    "    print('[]','=','=','=','=','[]','=','=','=','=','[]','=','=','=','=','[]','=','=','=','=','[]')\n",
    "    print('||',' ',' ',' ',' ','||',' ',' ',' ',' ','||',' ',' ',' ',' ','||',' ',' ',' ',' ','||')\n",
    "    print('||',' ',' ',' ',' ','||',' ',' ',' ',' ','||',' ',' ',' ',' ','||',' ',' ',' ',' ','||')\n",
    "    print('||',' ',' ',' ',' ','||',' ',' ',' ',' ','||',' ',' ',' ',' ','||',' ',' ',' ',' ','||')\n",
    "    print('||',' ',' ',' ',' ','||',' ',' ',' ',' ','||',' ',' ',' ',' ','||',' ',' ',' ',' ','||')\n",
    "\n",
    "# Call the function to draw the grid\n",
    "draw_grid()\n",
    "draw_grid()\n",
    "draw_grid()\n",
    "draw_grid()\n",
    "\n",
    "\n",
    "def draw_grid_1():\n",
    "    print('[]','=','=','=','=','[]','=','=','=','=','[]','=','=','=','=','[]','=','=','=','=','[]')\n",
    "draw_grid_1()"
   ]
  },
  {
   "cell_type": "code",
   "execution_count": null,
   "id": "401a0710",
   "metadata": {},
   "outputs": [],
   "source": []
  }
 ],
 "metadata": {
  "kernelspec": {
   "display_name": "Python 3 (ipykernel)",
   "language": "python",
   "name": "python3"
  },
  "language_info": {
   "codemirror_mode": {
    "name": "ipython",
    "version": 3
   },
   "file_extension": ".py",
   "mimetype": "text/x-python",
   "name": "python",
   "nbconvert_exporter": "python",
   "pygments_lexer": "ipython3",
   "version": "3.9.13"
  }
 },
 "nbformat": 4,
 "nbformat_minor": 5
}
