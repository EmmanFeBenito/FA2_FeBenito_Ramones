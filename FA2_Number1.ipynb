{
 "cells": [
  {
   "cell_type": "markdown",
   "id": "8d57594b",
   "metadata": {},
   "source": [
    "## 1. Write a Python function to multiply all the numbers in a list."
   ]
  },
  {
   "cell_type": "code",
   "execution_count": 15,
   "id": "5d29ffdd",
   "metadata": {},
   "outputs": [
    {
     "name": "stdout",
     "output_type": "stream",
     "text": [
      "List of Numbers: [6, -15, 5, -9, 2, -4, 10, 7]\n",
      "-2268000\n"
     ]
    }
   ],
   "source": [
    "numberslist = [6, -15, 5, -9, 2, -4, 10, 7]\n",
    "\n",
    "def mullist(numberslist):\n",
    "    result = 1\n",
    "    \n",
    "    for numbers in numberslist:\n",
    "        result = result * numbers\n",
    "    return result\n",
    "\n",
    "print(\"List of Numbers:\", numberslist)\n",
    "print(result)"
   ]
  }
 ],
 "metadata": {
  "kernelspec": {
   "display_name": "Python 3 (ipykernel)",
   "language": "python",
   "name": "python3"
  },
  "language_info": {
   "codemirror_mode": {
    "name": "ipython",
    "version": 3
   },
   "file_extension": ".py",
   "mimetype": "text/x-python",
   "name": "python",
   "nbconvert_exporter": "python",
   "pygments_lexer": "ipython3",
   "version": "3.9.13"
  }
 },
 "nbformat": 4,
 "nbformat_minor": 5
}
